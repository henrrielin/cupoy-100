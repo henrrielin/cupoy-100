{
 "cells": [
  {
   "cell_type": "markdown",
   "metadata": {},
   "source": [
    "## [作業目標]\n",
    "\n",
    "了解機器學習適合應用的領域與範疇。\n"
   ]
  },
  {
   "cell_type": "markdown",
   "metadata": {},
   "source": [
    "## [作業重點]\n",
    "透過瞭解機器學習的運作方式，找出非常適用機器學習應用的領域及其原因"
   ]
  },
  {
   "cell_type": "markdown",
   "metadata": {},
   "source": [
    "## 作業\n",
    "請找出一個你認為機器學習可以發光發熱的領域並闡述原因? "
   ]
  },
  {
   "cell_type": "markdown",
   "metadata": {},
   "source": [
    "- 物件偵測：辨識物件的技術，用於在一張圖片或畫面中可以分類出不同物件的項目，如[Mask_RCNN](https://github.com/matterport/Mask_RCNN)\n",
    "- 人體辨識：可以是人體姿態，以CMU 研究團隊提供的[OpenPose](https://github.com/CMU-Perceptual-Computing-Lab/openpose)，可以應用於姿體轉換、姿態模擬、辨識姿勢錯誤，更深入一點，如果是工廠有人員用不對的姿勢操作可以預先判斷，\n",
    "- 瑕疵偵測：在製造業中，出現瑕疵的機率是非常少的(可能約0.5%)，針對瑕疵的問題會需要更高的精準度，在敏感度及特異度的的檢驗可以用[ROC curve](https://estat.pixnet.net/blog/post/61795603-roc曲線-%28receiver-operating-characteristic-curve%29) 來呈現。\n",
    "\n"
   ]
  },
  {
   "cell_type": "markdown",
   "metadata": {},
   "source": []
  }
 ],
 "metadata": {
  "kernelspec": {
   "display_name": "Python 3",
   "language": "python",
   "name": "python3"
  },
  "language_info": {
   "codemirror_mode": {
    "name": "ipython",
    "version": 3
   },
   "file_extension": ".py",
   "mimetype": "text/x-python",
   "name": "python",
   "nbconvert_exporter": "python",
   "pygments_lexer": "ipython3",
   "version": "3.6.6"
  }
 },
 "nbformat": 4,
 "nbformat_minor": 2
}
